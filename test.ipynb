{
 "cells": [
  {
   "cell_type": "code",
   "execution_count": 2,
   "metadata": {},
   "outputs": [],
   "source": [
    "import numpy as np\n",
    "import networkx \n",
    "from networkx import karate_club_graph, to_numpy_matrix"
   ]
  },
  {
   "cell_type": "code",
   "execution_count": 15,
   "metadata": {},
   "outputs": [
    {
     "name": "stdout",
     "output_type": "stream",
     "text": [
      "X\n",
      " [[ 0.  0.]\n",
      " [ 1. -1.]\n",
      " [ 2. -2.]\n",
      " [ 3. -3.]]\n",
      "Y\n",
      " [[1.  0.  0.1]\n",
      " [4.  0.  0.4]\n",
      " [2.  0.  0.2]\n",
      " [5.  0.  0.5]]\n"
     ]
    }
   ],
   "source": [
    "#Adjacency Matrix\n",
    "A = np.matrix([\n",
    "    [0, 1, 0, 0],\n",
    "    [0, 0, 1, 1], \n",
    "    [0, 1, 0, 0],\n",
    "    [1, 0, 1, 0]],\n",
    "    dtype=float\n",
    ")\n",
    "\n",
    "#Identity Matrix of the same shape as A\n",
    "I = np.matrix(np.eye(A.shape[0]))\n",
    "\n",
    "A_hat = A+I\n",
    "\n",
    "#Degree matrix\n",
    "D = np.array(np.sum(A_hat, axis=0))[0]\n",
    "D = np.matrix(np.diag(D))\n",
    "\n",
    "#nodes features\n",
    "#shape = 4 (nodes), 2 (num of features)\n",
    "X = np.matrix([\n",
    "    [i, -i]\n",
    "    for i in range(A.shape[0])\n",
    "], dtype=float)\n",
    "\n",
    "#weights\n",
    "#shape = 2 (number of input features), 3 (number of output features)\n",
    "W = np.matrix([\n",
    "     [1, -0.9, 0.7],\n",
    "     [-1, 0.5, 0.5]\n",
    "])\n",
    "\n",
    "#linear activation\n",
    "#shape = 4 (nodes), 3 (num of output features from W)\n",
    "y = D**-1 * A_hat * X * W\n",
    "\n",
    "#relu\n",
    "y[y<0]=0\n",
    "\n",
    "print('X\\n',X)\n",
    "print('Y\\n',y)"
   ]
  },
  {
   "cell_type": "code",
   "execution_count": 29,
   "metadata": {},
   "outputs": [
    {
     "name": "stdout",
     "output_type": "stream",
     "text": [
      "[[ 0.5 -0.5]\n",
      " [ 2.  -2. ]\n",
      " [ 1.  -1. ]\n",
      " [ 2.5 -2.5]] \n",
      "\n",
      " [[ 1.  -0.9  0.7]\n",
      " [-1.   0.5  0.5]] \n",
      "\n",
      " [[ 1.  -0.7  0.1]\n",
      " [ 4.  -2.8  0.4]\n",
      " [ 2.  -1.4  0.2]\n",
      " [ 5.  -3.5  0.5]]\n"
     ]
    }
   ],
   "source": [
    "print(D**-1 * A_hat * X,'\\n\\n', W, '\\n\\n', D**-1 * A_hat * X * W)"
   ]
  },
  {
   "cell_type": "code",
   "execution_count": 22,
   "metadata": {},
   "outputs": [],
   "source": [
    "def GCN_forward(A, X, W):\n",
    "    I = np.matrix(np.eye(A.shape[0]))\n",
    "    A_hat = A+I\n",
    "    D = np.array(np.sum(A_hat, axis=0))[0]\n",
    "    D = np.matrix(np.diag(D))\n",
    "    y = D**-1 * A_hat * X * W\n",
    "    y[y<0]=0\n",
    "    return y"
   ]
  },
  {
   "cell_type": "code",
   "execution_count": 23,
   "metadata": {},
   "outputs": [
    {
     "data": {
      "text/plain": [
       "matrix([[1. , 0. , 0.1],\n",
       "        [4. , 0. , 0.4],\n",
       "        [2. , 0. , 0.2],\n",
       "        [5. , 0. , 0.5]])"
      ]
     },
     "execution_count": 23,
     "metadata": {},
     "output_type": "execute_result"
    }
   ],
   "source": [
    "GCN_forward(A, X, W)"
   ]
  },
  {
   "cell_type": "code",
   "execution_count": 24,
   "metadata": {},
   "outputs": [
    {
     "data": {
      "text/plain": [
       "matrix([[1. , 0. , 0.1],\n",
       "        [4. , 0. , 0.4],\n",
       "        [2. , 0. , 0.2],\n",
       "        [5. , 0. , 0.5]])"
      ]
     },
     "execution_count": 24,
     "metadata": {},
     "output_type": "execute_result"
    }
   ],
   "source": [
    "y"
   ]
  }
 ],
 "metadata": {
  "kernelspec": {
   "display_name": "Python 3",
   "language": "python",
   "name": "python3"
  },
  "language_info": {
   "codemirror_mode": {
    "name": "ipython",
    "version": 3
   },
   "file_extension": ".py",
   "mimetype": "text/x-python",
   "name": "python",
   "nbconvert_exporter": "python",
   "pygments_lexer": "ipython3",
   "version": "3.7.3"
  }
 },
 "nbformat": 4,
 "nbformat_minor": 2
}
