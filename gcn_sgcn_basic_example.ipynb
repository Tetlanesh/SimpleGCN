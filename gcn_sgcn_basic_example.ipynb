{
 "cells": [
  {
   "cell_type": "code",
   "execution_count": 1,
   "metadata": {
    "ExecuteTime": {
     "end_time": "2019-08-03T16:21:06.773479Z",
     "start_time": "2019-08-03T16:21:02.063283Z"
    }
   },
   "outputs": [],
   "source": [
    "import numpy as np\n",
    "import pandas as pd\n",
    "import networkx \n",
    "import torch\n",
    "from networkx import karate_club_graph, to_numpy_matrix\n",
    "%matplotlib inline"
   ]
  },
  {
   "cell_type": "markdown",
   "metadata": {},
   "source": [
    "### GCN CONCEPT\n",
    "Graphical Convolutional Network is a NN layer for graph-like structures to compute n-dimensional feature representation of Nodes in Graph.\n",
    "\n",
    "Below is a toy example to wrap our heads around the concept."
   ]
  },
  {
   "cell_type": "code",
   "execution_count": 6,
   "metadata": {
    "ExecuteTime": {
     "end_time": "2019-08-03T16:24:10.099585Z",
     "start_time": "2019-08-03T16:24:10.095600Z"
    }
   },
   "outputs": [],
   "source": [
    "#Adjacency Matrix of a 4-node graph\n",
    "A = torch.FloatTensor([\n",
    "    [0, 1, 0, 0],\n",
    "    [0, 0, 1, 1], \n",
    "    [0, 1, 0, 0],\n",
    "    [1, 0, 1, 0]])"
   ]
  },
  {
   "cell_type": "markdown",
   "metadata": {},
   "source": [
    "Adjacency matrix is a "
   ]
  },
  {
   "cell_type": "markdown",
   "metadata": {},
   "source": [
    "This matrix will be essentially used as a templete for selecting other nodes related to given node. So unless a node have a self loop it will in itself never be selected to feature aggregation. Thats why we have to add self loops so that each node features can be used to generate its own representation."
   ]
  },
  {
   "cell_type": "code",
   "execution_count": 7,
   "metadata": {
    "ExecuteTime": {
     "end_time": "2019-08-03T16:25:18.876835Z",
     "start_time": "2019-08-03T16:25:18.871838Z"
    }
   },
   "outputs": [
    {
     "name": "stdout",
     "output_type": "stream",
     "text": [
      "tensor([[1., 1., 0., 0.],\n",
      "        [0., 1., 1., 1.],\n",
      "        [0., 1., 1., 0.],\n",
      "        [1., 0., 1., 1.]])\n"
     ]
    }
   ],
   "source": [
    "#Identity Matrix of the same shape as A\n",
    "I = torch.eye(A.shape[0])\n",
    "#we are adding I to A so that A_hat can be used to combine features of a node with a feature of its neighbors (we add self loops essentially)\n",
    "A_hat = A+I\n",
    "print(A_hat)"
   ]
  },
  {
   "cell_type": "markdown",
   "metadata": {},
   "source": [
    "Since degree level of nodes will impact how many nodes are used tocalculate final representation we have to normalize it some way."
   ]
  },
  {
   "cell_type": "code",
   "execution_count": 261,
   "metadata": {},
   "outputs": [
    {
     "name": "stdout",
     "output_type": "stream",
     "text": [
      "[[2. 0. 0. 0.]\n",
      " [0. 3. 0. 0.]\n",
      " [0. 0. 3. 0.]\n",
      " [0. 0. 0. 2.]]\n"
     ]
    }
   ],
   "source": [
    "#Degree matrix\n",
    "D = np.array(np.sum(A_hat, axis=0))[0]\n",
    "D = np.matrix(np.diag(D))\n",
    "print(D)"
   ]
  },
  {
   "cell_type": "markdown",
   "metadata": {},
   "source": [
    "Lets generate some \"features\" to act as input. Those could be one-hot encoded id of each node, or some features coming from your dataset (number of shop visits, shirt color, etc)"
   ]
  },
  {
   "cell_type": "code",
   "execution_count": 262,
   "metadata": {},
   "outputs": [
    {
     "name": "stdout",
     "output_type": "stream",
     "text": [
      "[[ 0.  0.]\n",
      " [ 1. -1.]\n",
      " [ 2. -2.]\n",
      " [ 3. -3.]]\n"
     ]
    }
   ],
   "source": [
    "#nodes features\n",
    "#shape = 4 (nodes), 2 (num of features)\n",
    "X = np.matrix([\n",
    "    [i, -i]\n",
    "    for i in range(A.shape[0])\n",
    "], dtype=float)\n",
    "print(X)"
   ]
  },
  {
   "cell_type": "markdown",
   "metadata": {},
   "source": [
    "Last thing we need are some weights. Weights in GCN layer are used to "
   ]
  },
  {
   "cell_type": "code",
   "execution_count": 264,
   "metadata": {},
   "outputs": [],
   "source": [
    "#weights\n",
    "#shape = 2 (number of input features), 3 (number of output features)\n",
    "W = np.matrix([\n",
    "     [1, -0.9, 0.7],\n",
    "     [-1, 0.5, 0.5]\n",
    "])"
   ]
  },
  {
   "cell_type": "code",
   "execution_count": 15,
   "metadata": {},
   "outputs": [
    {
     "name": "stdout",
     "output_type": "stream",
     "text": [
      "X\n",
      " [[ 0.  0.]\n",
      " [ 1. -1.]\n",
      " [ 2. -2.]\n",
      " [ 3. -3.]]\n",
      "Y\n",
      " [[1.  0.  0.1]\n",
      " [4.  0.  0.4]\n",
      " [2.  0.  0.2]\n",
      " [5.  0.  0.5]]\n"
     ]
    }
   ],
   "source": [
    "#linear activation\n",
    "#shape = 4 (nodes), 3 (num of output features from W)\n",
    "y = D**-1 * A_hat * X * W\n",
    "\n",
    "#relu\n",
    "y[y<0]=0\n",
    "\n",
    "print('X\\n',X)\n",
    "print('Y\\n',y)"
   ]
  },
  {
   "cell_type": "code",
   "execution_count": 29,
   "metadata": {},
   "outputs": [
    {
     "name": "stdout",
     "output_type": "stream",
     "text": [
      "[[ 0.5 -0.5]\n",
      " [ 2.  -2. ]\n",
      " [ 1.  -1. ]\n",
      " [ 2.5 -2.5]] \n",
      "\n",
      " [[ 1.  -0.9  0.7]\n",
      " [-1.   0.5  0.5]] \n",
      "\n",
      " [[ 1.  -0.7  0.1]\n",
      " [ 4.  -2.8  0.4]\n",
      " [ 2.  -1.4  0.2]\n",
      " [ 5.  -3.5  0.5]]\n"
     ]
    }
   ],
   "source": [
    "print(D**-1 * A_hat * X,'\\n\\n', W, '\\n\\n', D**-1 * A_hat * X * W)"
   ]
  },
  {
   "cell_type": "code",
   "execution_count": 100,
   "metadata": {},
   "outputs": [],
   "source": [
    "def GCN_forward(A, X, W):\n",
    "    # calculate leaky_relu(D**-1 * A_hat * X * W)\n",
    "    # based on https://towardsdatascience.com/how-to-do-deep-learning-on-graphs-with-graph-convolutional-networks-7d2250723780\n",
    "    I = np.matrix(np.eye(A.shape[0]))\n",
    "    A_hat = A+I\n",
    "    D = np.array(np.sum(A_hat, axis=0))[0]\n",
    "    D = np.matrix(np.diag(D))\n",
    "    y = D**-1 * A_hat * X * W\n",
    "    y = np.where(y > 0, y, y * 0.05) \n",
    "    return y"
   ]
  },
  {
   "cell_type": "code",
   "execution_count": 80,
   "metadata": {},
   "outputs": [
    {
     "data": {
      "text/plain": [
       "array([[ 1.   , -0.035,  0.1  ],\n",
       "       [ 4.   , -0.14 ,  0.4  ],\n",
       "       [ 2.   , -0.07 ,  0.2  ],\n",
       "       [ 5.   , -0.175,  0.5  ]])"
      ]
     },
     "execution_count": 80,
     "metadata": {},
     "output_type": "execute_result"
    }
   ],
   "source": [
    "GCN_forward(A, X, W)"
   ]
  },
  {
   "cell_type": "code",
   "execution_count": 99,
   "metadata": {},
   "outputs": [
    {
     "name": "stdout",
     "output_type": "stream",
     "text": [
      "[[-0.24076763  0.44969968 -0.68178031  0.25269822]\n",
      " [ 1.67794053 -1.42997133  0.40414433  0.74126436]] \n",
      "\n",
      " [[-0.97310815  0.16076893]\n",
      " [ 1.70313786  0.37593033]\n",
      " [-0.9374675   1.06367053]\n",
      " [ 0.49469533 -1.5200449 ]]\n"
     ]
    }
   ],
   "source": [
    "W1 = np.random.normal(loc=0, scale=1, size=(X.shape[1], 4))\n",
    "W2 = np.random.normal(loc=0, size=(W1.shape[1], 2))\n",
    "print(W1,'\\n\\n',W2)"
   ]
  },
  {
   "cell_type": "code",
   "execution_count": 82,
   "metadata": {},
   "outputs": [
    {
     "name": "stdout",
     "output_type": "stream",
     "text": [
      "[[ 1.00108179 -0.24328801]\n",
      " [ 1.46825329 -0.35682241]\n",
      " [ 0.80086543 -0.19463041]\n",
      " [ 1.60173087 -0.38926081]]\n"
     ]
    }
   ],
   "source": [
    "GCN_L1 = GCN_forward(A, X, W1)\n",
    "GCN_L2 = GCN_forward(A, GCN_L1, W2)\n",
    "print(GCN_L2)"
   ]
  },
  {
   "cell_type": "code",
   "execution_count": 85,
   "metadata": {},
   "outputs": [],
   "source": [
    "kcg = karate_club_graph()"
   ]
  },
  {
   "cell_type": "code",
   "execution_count": 94,
   "metadata": {},
   "outputs": [
    {
     "data": {
      "text/plain": [
       "(34, 34)"
      ]
     },
     "execution_count": 94,
     "metadata": {},
     "output_type": "execute_result"
    }
   ],
   "source": [
    "to_numpy_matrix(kcg).shape"
   ]
  },
  {
   "cell_type": "code",
   "execution_count": 96,
   "metadata": {},
   "outputs": [],
   "source": [
    "A = to_numpy_matrix(kcg)"
   ]
  },
  {
   "cell_type": "code",
   "execution_count": 114,
   "metadata": {},
   "outputs": [],
   "source": [
    "nodes = kcg.nodes()"
   ]
  },
  {
   "cell_type": "code",
   "execution_count": 117,
   "metadata": {},
   "outputs": [
    {
     "data": {
      "text/plain": [
       "34"
      ]
     },
     "execution_count": 117,
     "metadata": {},
     "output_type": "execute_result"
    }
   ],
   "source": [
    "len(nodes)"
   ]
  },
  {
   "cell_type": "code",
   "execution_count": 175,
   "metadata": {},
   "outputs": [],
   "source": [
    "clubs = [node['club'] for node in nodes.values()]"
   ]
  },
  {
   "cell_type": "code",
   "execution_count": 176,
   "metadata": {},
   "outputs": [
    {
     "data": {
      "text/plain": [
       "['Mr. Hi',\n",
       " 'Mr. Hi',\n",
       " 'Mr. Hi',\n",
       " 'Mr. Hi',\n",
       " 'Mr. Hi',\n",
       " 'Mr. Hi',\n",
       " 'Mr. Hi',\n",
       " 'Mr. Hi',\n",
       " 'Mr. Hi',\n",
       " 'Officer',\n",
       " 'Mr. Hi',\n",
       " 'Mr. Hi',\n",
       " 'Mr. Hi',\n",
       " 'Mr. Hi',\n",
       " 'Officer',\n",
       " 'Officer',\n",
       " 'Mr. Hi',\n",
       " 'Mr. Hi',\n",
       " 'Officer',\n",
       " 'Mr. Hi',\n",
       " 'Officer',\n",
       " 'Mr. Hi',\n",
       " 'Officer',\n",
       " 'Officer',\n",
       " 'Officer',\n",
       " 'Officer',\n",
       " 'Officer',\n",
       " 'Officer',\n",
       " 'Officer',\n",
       " 'Officer',\n",
       " 'Officer',\n",
       " 'Officer',\n",
       " 'Officer',\n",
       " 'Officer']"
      ]
     },
     "execution_count": 176,
     "metadata": {},
     "output_type": "execute_result"
    }
   ],
   "source": [
    "clubs"
   ]
  },
  {
   "cell_type": "code",
   "execution_count": 157,
   "metadata": {},
   "outputs": [],
   "source": [
    "edges = kcg.edges()"
   ]
  },
  {
   "cell_type": "code",
   "execution_count": 121,
   "metadata": {},
   "outputs": [
    {
     "data": {
      "text/plain": [
       "array([[1., 0., 0., ..., 0., 0., 0.],\n",
       "       [0., 1., 0., ..., 0., 0., 0.],\n",
       "       [0., 0., 1., ..., 0., 0., 0.],\n",
       "       ...,\n",
       "       [0., 0., 0., ..., 1., 0., 0.],\n",
       "       [0., 0., 0., ..., 0., 1., 0.],\n",
       "       [0., 0., 0., ..., 0., 0., 1.]])"
      ]
     },
     "execution_count": 121,
     "metadata": {},
     "output_type": "execute_result"
    }
   ],
   "source": [
    "X = np.eye(len(nodes))\n",
    "X"
   ]
  },
  {
   "cell_type": "code",
   "execution_count": 247,
   "metadata": {},
   "outputs": [],
   "source": [
    "W1 = np.random.normal(loc=0, scale=1, size=(len(nodes), 4))\n",
    "W2 = np.random.normal(loc=0, size=(W1.shape[1], 2))"
   ]
  },
  {
   "cell_type": "code",
   "execution_count": 248,
   "metadata": {},
   "outputs": [],
   "source": [
    "GCN_L1 = GCN_forward(A, X, W1)\n",
    "GCN_L2 = GCN_forward(A, GCN_L1, W2)"
   ]
  },
  {
   "cell_type": "code",
   "execution_count": 249,
   "metadata": {},
   "outputs": [],
   "source": [
    "zkc = pd.DataFrame(GCN_L2, columns=['X','Y'])\n",
    "zkc['CLUBS'] = (pd.Series(clubs) == 'Officer').astype('int')"
   ]
  },
  {
   "cell_type": "code",
   "execution_count": 250,
   "metadata": {},
   "outputs": [
    {
     "data": {
      "text/plain": [
       "<matplotlib.axes._subplots.AxesSubplot at 0x1414c52be10>"
      ]
     },
     "execution_count": 250,
     "metadata": {},
     "output_type": "execute_result"
    },
    {
     "data": {
      "image/png": "[encoded data removed]",
      "text/plain": [
       "<Figure size 432x288 with 2 Axes>"
      ]
     },
     "metadata": {
      "needs_background": "light"
     },
     "output_type": "display_data"
    }
   ],
   "source": [
    "size = np.isin(np.array(zkc.index),[0,33]) * 50 + 10\n",
    "zkc.plot.scatter('X', 'Y', c='CLUBS', s=size, colormap='coolwarm')"
   ]
  },
  {
   "cell_type": "code",
   "execution_count": 251,
   "metadata": {},
   "outputs": [],
   "source": [
    "def SGCN_forward(A, X, W):\n",
    "    # calculate SpectralRule = D**-0.5 * A_hat * D**-0.5 * X * W\n",
    "    # based on https://towardsdatascience.com/how-to-do-deep-learning-on-graphs-with-graph-convolutional-networks-7d2250723780\n",
    "    I = np.matrix(np.eye(A.shape[0]))\n",
    "    A_hat = A+I\n",
    "    D = np.array(np.sum(A_hat, axis=0))[0]\n",
    "    D = np.matrix(np.diag(D))\n",
    "    y = D**-1 * A_hat * D**-1 * X * W\n",
    "    return y\n",
    "\n",
    "def leaky_relu(x):\n",
    "    return np.where(x > 0, x, x * 0.05)\n",
    "\n",
    "def sigmoid(x):\n",
    "    return 1/(1+np.exp(-x))"
   ]
  },
  {
   "cell_type": "code",
   "execution_count": 252,
   "metadata": {},
   "outputs": [
    {
     "name": "stdout",
     "output_type": "stream",
     "text": [
      "[[0.49160806 0.50276904]\n",
      " [0.49512147 0.50130696]\n",
      " [0.49315817 0.49996432]\n",
      " [0.49542262 0.49883129]\n",
      " [0.4971036  0.5021761 ]\n",
      " [0.48623463 0.50563104]\n",
      " [0.48705769 0.50500445]\n",
      " [0.49714364 0.50035082]\n",
      " [0.49650569 0.50071363]\n",
      " [0.49290023 0.50353675]\n",
      " [0.49685567 0.50196894]\n",
      " [0.4720079  0.51850218]\n",
      " [0.49331982 0.49600556]\n",
      " [0.49740732 0.50069472]\n",
      " [0.49617987 0.49296387]\n",
      " [0.49532269 0.50151664]\n",
      " [0.47828367 0.50819139]\n",
      " [0.49466335 0.50011899]\n",
      " [0.48378277 0.49356558]\n",
      " [0.49636514 0.50070375]\n",
      " [0.49156117 0.49967308]\n",
      " [0.49717916 0.50205394]\n",
      " [0.49335936 0.50127291]\n",
      " [0.49082987 0.4951394 ]\n",
      " [0.48484468 0.48827464]\n",
      " [0.48721624 0.49111258]\n",
      " [0.49468254 0.50154095]\n",
      " [0.48896729 0.49349175]\n",
      " [0.4944867  0.49954048]\n",
      " [0.49425783 0.50041889]\n",
      " [0.4957309  0.50064893]\n",
      " [0.49165116 0.49515312]\n",
      " [0.48935504 0.49732884]\n",
      " [0.48848271 0.49824769]]\n"
     ]
    }
   ],
   "source": [
    "SGCN_L1 = leaky_relu(SGCN_forward(A, X, W1))\n",
    "SGCN_L2 = sigmoid(SGCN_forward(A, SGCN_L1, W2))\n",
    "print(SGCN_L2)"
   ]
  },
  {
   "cell_type": "code",
   "execution_count": 253,
   "metadata": {},
   "outputs": [
    {
     "data": {
      "text/plain": [
       "<matplotlib.axes._subplots.AxesSubplot at 0x1414c61b7f0>"
      ]
     },
     "execution_count": 253,
     "metadata": {},
     "output_type": "execute_result"
    },
    {
     "data": {
      "image/png": "[encoded data removed]",
      "text/plain": [
       "<Figure size 432x288 with 2 Axes>"
      ]
     },
     "metadata": {
      "needs_background": "light"
     },
     "output_type": "display_data"
    }
   ],
   "source": [
    "zkc = pd.DataFrame(SGCN_L2, columns=['X','Y'])\n",
    "zkc['CLUBS'] = (pd.Series(clubs) == 'Officer').astype('int')\n",
    "size = np.isin(np.array(zkc.index),[0,33]) * 50 + 10\n",
    "zkc.plot.scatter('X', 'Y', c='CLUBS', s=size, colormap='coolwarm')"
   ]
  },
  {
   "cell_type": "code",
   "execution_count": null,
   "metadata": {},
   "outputs": [],
   "source": []
  }
 ],
 "metadata": {
  "kernelspec": {
   "display_name": "Python 3",
   "language": "python",
   "name": "python3"
  },
  "language_info": {
   "codemirror_mode": {
    "name": "ipython",
    "version": 3
   },
   "file_extension": ".py",
   "mimetype": "text/x-python",
   "name": "python",
   "nbconvert_exporter": "python",
   "pygments_lexer": "ipython3",
   "version": "3.7.3"
  },
  "varInspector": {
   "cols": {
    "lenName": 16,
    "lenType": 16,
    "lenVar": 40
   },
   "kernels_config": {
    "python": {
     "delete_cmd_postfix": "",
     "delete_cmd_prefix": "del ",
     "library": "var_list.py",
     "varRefreshCmd": "print(var_dic_list())"
    },
    "r": {
     "delete_cmd_postfix": ") ",
     "delete_cmd_prefix": "rm(",
     "library": "var_list.r",
     "varRefreshCmd": "cat(var_dic_list()) "
    }
   },
   "types_to_exclude": [
    "module",
    "function",
    "builtin_function_or_method",
    "instance",
    "_Feature"
   ],
   "window_display": false
  }
 },
 "nbformat": 4,
 "nbformat_minor": 2
}
